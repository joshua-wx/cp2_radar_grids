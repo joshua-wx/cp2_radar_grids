{
 "cells": [
  {
   "cell_type": "code",
   "execution_count": 1,
   "metadata": {
    "ExecuteTime": {
     "end_time": "2020-06-06T01:26:28.082716Z",
     "start_time": "2020-06-06T01:26:25.819672Z"
    }
   },
   "outputs": [
    {
     "name": "stdout",
     "output_type": "stream",
     "text": [
      "\n",
      "## You are using the Python ARM Radar Toolkit (Py-ART), an open source\n",
      "## library for working with weather radar data. Py-ART is partly\n",
      "## supported by the U.S. Department of Energy as part of the Atmospheric\n",
      "## Radiation Measurement (ARM) Climate Research Facility, an Office of\n",
      "## Science user facility.\n",
      "##\n",
      "## If you use this software to prepare a publication, please cite:\n",
      "##\n",
      "##     JJ Helmus and SM Collis, JORS 2016, doi: 10.5334/jors.119\n",
      "\n"
     ]
    }
   ],
   "source": [
    "import glob\n",
    "import warnings\n",
    "import traceback\n",
    "\n",
    "import radar_grids\n",
    "\n",
    "import dask\n",
    "import dask.bag as db\n",
    "from dask.diagnostics import ProgressBar\n",
    "\n",
    "warnings.simplefilter('ignore')"
   ]
  },
  {
   "cell_type": "code",
   "execution_count": 2,
   "metadata": {
    "ExecuteTime": {
     "end_time": "2020-06-06T01:26:28.087037Z",
     "start_time": "2020-06-06T01:26:28.084323Z"
    }
   },
   "outputs": [],
   "source": [
    "def process(infile):\n",
    "    try:\n",
    "        radar_grids.标准映射(infile, \"/scratch/kl02/jss548/cp2_level_1b/v2020/\")\n",
    "    except Exception:\n",
    "        traceback.print_exc()\n",
    "        print(f\"problem with {infile}\")\n",
    "        \n",
    "    return None"
   ]
  },
  {
   "cell_type": "code",
   "execution_count": 3,
   "metadata": {
    "ExecuteTime": {
     "end_time": "2020-06-06T02:33:10.989471Z",
     "start_time": "2020-06-06T02:33:10.463717Z"
    }
   },
   "outputs": [
    {
     "name": "stdout",
     "output_type": "stream",
     "text": [
      "['/scratch/kl02/jss548/cp2_level_1b/v2020/ppi/2014/20141127/501_20141127_000001_level1b_ppi.nc', '/scratch/kl02/jss548/cp2_level_1b/v2020/ppi/2014/20141127/501_20141127_000602_level1b_ppi.nc', '/scratch/kl02/jss548/cp2_level_1b/v2020/ppi/2014/20141127/501_20141127_001202_level1b_ppi.nc', '/scratch/kl02/jss548/cp2_level_1b/v2020/ppi/2014/20141127/501_20141127_001802_level1b_ppi.nc', '/scratch/kl02/jss548/cp2_level_1b/v2020/ppi/2014/20141127/501_20141127_002402_level1b_ppi.nc', '/scratch/kl02/jss548/cp2_level_1b/v2020/ppi/2014/20141127/501_20141127_003002_level1b_ppi.nc', '/scratch/kl02/jss548/cp2_level_1b/v2020/ppi/2014/20141127/501_20141127_003602_level1b_ppi.nc', '/scratch/kl02/jss548/cp2_level_1b/v2020/ppi/2014/20141127/501_20141127_004202_level1b_ppi.nc', '/scratch/kl02/jss548/cp2_level_1b/v2020/ppi/2014/20141127/501_20141127_004802_level1b_ppi.nc', '/scratch/kl02/jss548/cp2_level_1b/v2020/ppi/2014/20141127/501_20141127_005402_level1b_ppi.nc', '/scratch/kl02/jss548/cp2_level_1b/v2020/ppi/2014/20141127/501_20141127_010001_level1b_ppi.nc', '/scratch/kl02/jss548/cp2_level_1b/v2020/ppi/2014/20141127/501_20141127_010602_level1b_ppi.nc', '/scratch/kl02/jss548/cp2_level_1b/v2020/ppi/2014/20141127/501_20141127_011202_level1b_ppi.nc', '/scratch/kl02/jss548/cp2_level_1b/v2020/ppi/2014/20141127/501_20141127_011802_level1b_ppi.nc', '/scratch/kl02/jss548/cp2_level_1b/v2020/ppi/2014/20141127/501_20141127_012402_level1b_ppi.nc', '/scratch/kl02/jss548/cp2_level_1b/v2020/ppi/2014/20141127/501_20141127_013002_level1b_ppi.nc', '/scratch/kl02/jss548/cp2_level_1b/v2020/ppi/2014/20141127/501_20141127_013612_level1b_ppi.nc', '/scratch/kl02/jss548/cp2_level_1b/v2020/ppi/2014/20141127/501_20141127_014202_level1b_ppi.nc', '/scratch/kl02/jss548/cp2_level_1b/v2020/ppi/2014/20141127/501_20141127_014802_level1b_ppi.nc', '/scratch/kl02/jss548/cp2_level_1b/v2020/ppi/2014/20141127/501_20141127_015402_level1b_ppi.nc', '/scratch/kl02/jss548/cp2_level_1b/v2020/ppi/2014/20141127/501_20141127_020001_level1b_ppi.nc', '/scratch/kl02/jss548/cp2_level_1b/v2020/ppi/2014/20141127/501_20141127_020602_level1b_ppi.nc', '/scratch/kl02/jss548/cp2_level_1b/v2020/ppi/2014/20141127/501_20141127_021202_level1b_ppi.nc', '/scratch/kl02/jss548/cp2_level_1b/v2020/ppi/2014/20141127/501_20141127_021802_level1b_ppi.nc', '/scratch/kl02/jss548/cp2_level_1b/v2020/ppi/2014/20141127/501_20141127_022402_level1b_ppi.nc', '/scratch/kl02/jss548/cp2_level_1b/v2020/ppi/2014/20141127/501_20141127_023002_level1b_ppi.nc', '/scratch/kl02/jss548/cp2_level_1b/v2020/ppi/2014/20141127/501_20141127_023606_level1b_ppi.nc', '/scratch/kl02/jss548/cp2_level_1b/v2020/ppi/2014/20141127/501_20141127_024202_level1b_ppi.nc', '/scratch/kl02/jss548/cp2_level_1b/v2020/ppi/2014/20141127/501_20141127_024802_level1b_ppi.nc', '/scratch/kl02/jss548/cp2_level_1b/v2020/ppi/2014/20141127/501_20141127_025402_level1b_ppi.nc', '/scratch/kl02/jss548/cp2_level_1b/v2020/ppi/2014/20141127/501_20141127_030001_level1b_ppi.nc', '/scratch/kl02/jss548/cp2_level_1b/v2020/ppi/2014/20141127/501_20141127_030602_level1b_ppi.nc', '/scratch/kl02/jss548/cp2_level_1b/v2020/ppi/2014/20141127/501_20141127_031202_level1b_ppi.nc', '/scratch/kl02/jss548/cp2_level_1b/v2020/ppi/2014/20141127/501_20141127_031802_level1b_ppi.nc', '/scratch/kl02/jss548/cp2_level_1b/v2020/ppi/2014/20141127/501_20141127_032402_level1b_ppi.nc', '/scratch/kl02/jss548/cp2_level_1b/v2020/ppi/2014/20141127/501_20141127_033002_level1b_ppi.nc', '/scratch/kl02/jss548/cp2_level_1b/v2020/ppi/2014/20141127/501_20141127_033602_level1b_ppi.nc', '/scratch/kl02/jss548/cp2_level_1b/v2020/ppi/2014/20141127/501_20141127_034202_level1b_ppi.nc', '/scratch/kl02/jss548/cp2_level_1b/v2020/ppi/2014/20141127/501_20141127_034803_level1b_ppi.nc', '/scratch/kl02/jss548/cp2_level_1b/v2020/ppi/2014/20141127/501_20141127_035402_level1b_ppi.nc', '/scratch/kl02/jss548/cp2_level_1b/v2020/ppi/2014/20141127/501_20141127_040002_level1b_ppi.nc', '/scratch/kl02/jss548/cp2_level_1b/v2020/ppi/2014/20141127/501_20141127_040602_level1b_ppi.nc', '/scratch/kl02/jss548/cp2_level_1b/v2020/ppi/2014/20141127/501_20141127_041202_level1b_ppi.nc', '/scratch/kl02/jss548/cp2_level_1b/v2020/ppi/2014/20141127/501_20141127_041805_level1b_ppi.nc', '/scratch/kl02/jss548/cp2_level_1b/v2020/ppi/2014/20141127/501_20141127_042404_level1b_ppi.nc', '/scratch/kl02/jss548/cp2_level_1b/v2020/ppi/2014/20141127/501_20141127_043002_level1b_ppi.nc', '/scratch/kl02/jss548/cp2_level_1b/v2020/ppi/2014/20141127/501_20141127_043602_level1b_ppi.nc', '/scratch/kl02/jss548/cp2_level_1b/v2020/ppi/2014/20141127/501_20141127_044202_level1b_ppi.nc', '/scratch/kl02/jss548/cp2_level_1b/v2020/ppi/2014/20141127/501_20141127_044802_level1b_ppi.nc', '/scratch/kl02/jss548/cp2_level_1b/v2020/ppi/2014/20141127/501_20141127_045402_level1b_ppi.nc', '/scratch/kl02/jss548/cp2_level_1b/v2020/ppi/2014/20141127/501_20141127_050001_level1b_ppi.nc', '/scratch/kl02/jss548/cp2_level_1b/v2020/ppi/2014/20141127/501_20141127_050602_level1b_ppi.nc', '/scratch/kl02/jss548/cp2_level_1b/v2020/ppi/2014/20141127/501_20141127_051202_level1b_ppi.nc', '/scratch/kl02/jss548/cp2_level_1b/v2020/ppi/2014/20141127/501_20141127_051802_level1b_ppi.nc', '/scratch/kl02/jss548/cp2_level_1b/v2020/ppi/2014/20141127/501_20141127_052402_level1b_ppi.nc', '/scratch/kl02/jss548/cp2_level_1b/v2020/ppi/2014/20141127/501_20141127_053002_level1b_ppi.nc', '/scratch/kl02/jss548/cp2_level_1b/v2020/ppi/2014/20141127/501_20141127_053602_level1b_ppi.nc', '/scratch/kl02/jss548/cp2_level_1b/v2020/ppi/2014/20141127/501_20141127_054202_level1b_ppi.nc', '/scratch/kl02/jss548/cp2_level_1b/v2020/ppi/2014/20141127/501_20141127_054802_level1b_ppi.nc', '/scratch/kl02/jss548/cp2_level_1b/v2020/ppi/2014/20141127/501_20141127_055402_level1b_ppi.nc', '/scratch/kl02/jss548/cp2_level_1b/v2020/ppi/2014/20141127/501_20141127_060002_level1b_ppi.nc', '/scratch/kl02/jss548/cp2_level_1b/v2020/ppi/2014/20141127/501_20141127_060602_level1b_ppi.nc', '/scratch/kl02/jss548/cp2_level_1b/v2020/ppi/2014/20141127/501_20141127_061202_level1b_ppi.nc', '/scratch/kl02/jss548/cp2_level_1b/v2020/ppi/2014/20141127/501_20141127_061802_level1b_ppi.nc', '/scratch/kl02/jss548/cp2_level_1b/v2020/ppi/2014/20141127/501_20141127_062402_level1b_ppi.nc', '/scratch/kl02/jss548/cp2_level_1b/v2020/ppi/2014/20141127/501_20141127_063003_level1b_ppi.nc', '/scratch/kl02/jss548/cp2_level_1b/v2020/ppi/2014/20141127/501_20141127_063602_level1b_ppi.nc', '/scratch/kl02/jss548/cp2_level_1b/v2020/ppi/2014/20141127/501_20141127_064202_level1b_ppi.nc', '/scratch/kl02/jss548/cp2_level_1b/v2020/ppi/2014/20141127/501_20141127_064802_level1b_ppi.nc', '/scratch/kl02/jss548/cp2_level_1b/v2020/ppi/2014/20141127/501_20141127_065402_level1b_ppi.nc', '/scratch/kl02/jss548/cp2_level_1b/v2020/ppi/2014/20141127/501_20141127_070001_level1b_ppi.nc', '/scratch/kl02/jss548/cp2_level_1b/v2020/ppi/2014/20141127/501_20141127_070602_level1b_ppi.nc', '/scratch/kl02/jss548/cp2_level_1b/v2020/ppi/2014/20141127/501_20141127_071202_level1b_ppi.nc', '/scratch/kl02/jss548/cp2_level_1b/v2020/ppi/2014/20141127/501_20141127_071802_level1b_ppi.nc', '/scratch/kl02/jss548/cp2_level_1b/v2020/ppi/2014/20141127/501_20141127_072402_level1b_ppi.nc', '/scratch/kl02/jss548/cp2_level_1b/v2020/ppi/2014/20141127/501_20141127_073002_level1b_ppi.nc', '/scratch/kl02/jss548/cp2_level_1b/v2020/ppi/2014/20141127/501_20141127_073602_level1b_ppi.nc', '/scratch/kl02/jss548/cp2_level_1b/v2020/ppi/2014/20141127/501_20141127_074202_level1b_ppi.nc', '/scratch/kl02/jss548/cp2_level_1b/v2020/ppi/2014/20141127/501_20141127_074802_level1b_ppi.nc', '/scratch/kl02/jss548/cp2_level_1b/v2020/ppi/2014/20141127/501_20141127_075403_level1b_ppi.nc', '/scratch/kl02/jss548/cp2_level_1b/v2020/ppi/2014/20141127/501_20141127_080003_level1b_ppi.nc', '/scratch/kl02/jss548/cp2_level_1b/v2020/ppi/2014/20141127/501_20141127_080604_level1b_ppi.nc', '/scratch/kl02/jss548/cp2_level_1b/v2020/ppi/2014/20141127/501_20141127_081204_level1b_ppi.nc', '/scratch/kl02/jss548/cp2_level_1b/v2020/ppi/2014/20141127/501_20141127_081804_level1b_ppi.nc', '/scratch/kl02/jss548/cp2_level_1b/v2020/ppi/2014/20141127/501_20141127_082404_level1b_ppi.nc', '/scratch/kl02/jss548/cp2_level_1b/v2020/ppi/2014/20141127/501_20141127_083004_level1b_ppi.nc', '/scratch/kl02/jss548/cp2_level_1b/v2020/ppi/2014/20141127/501_20141127_083604_level1b_ppi.nc', '/scratch/kl02/jss548/cp2_level_1b/v2020/ppi/2014/20141127/501_20141127_084204_level1b_ppi.nc', '/scratch/kl02/jss548/cp2_level_1b/v2020/ppi/2014/20141127/501_20141127_084804_level1b_ppi.nc', '/scratch/kl02/jss548/cp2_level_1b/v2020/ppi/2014/20141127/501_20141127_085404_level1b_ppi.nc', '/scratch/kl02/jss548/cp2_level_1b/v2020/ppi/2014/20141127/501_20141127_090003_level1b_ppi.nc', '/scratch/kl02/jss548/cp2_level_1b/v2020/ppi/2014/20141127/501_20141127_090604_level1b_ppi.nc', '/scratch/kl02/jss548/cp2_level_1b/v2020/ppi/2014/20141127/501_20141127_091203_level1b_ppi.nc', '/scratch/kl02/jss548/cp2_level_1b/v2020/ppi/2014/20141127/501_20141127_091803_level1b_ppi.nc', '/scratch/kl02/jss548/cp2_level_1b/v2020/ppi/2014/20141127/501_20141127_092404_level1b_ppi.nc', '/scratch/kl02/jss548/cp2_level_1b/v2020/ppi/2014/20141127/501_20141127_093003_level1b_ppi.nc', '/scratch/kl02/jss548/cp2_level_1b/v2020/ppi/2014/20141127/501_20141127_093604_level1b_ppi.nc', '/scratch/kl02/jss548/cp2_level_1b/v2020/ppi/2014/20141127/501_20141127_094204_level1b_ppi.nc', '/scratch/kl02/jss548/cp2_level_1b/v2020/ppi/2014/20141127/501_20141127_094804_level1b_ppi.nc', '/scratch/kl02/jss548/cp2_level_1b/v2020/ppi/2014/20141127/501_20141127_095404_level1b_ppi.nc', '/scratch/kl02/jss548/cp2_level_1b/v2020/ppi/2014/20141127/501_20141127_100003_level1b_ppi.nc', '/scratch/kl02/jss548/cp2_level_1b/v2020/ppi/2014/20141127/501_20141127_100604_level1b_ppi.nc', '/scratch/kl02/jss548/cp2_level_1b/v2020/ppi/2014/20141127/501_20141127_101204_level1b_ppi.nc', '/scratch/kl02/jss548/cp2_level_1b/v2020/ppi/2014/20141127/501_20141127_101804_level1b_ppi.nc', '/scratch/kl02/jss548/cp2_level_1b/v2020/ppi/2014/20141127/501_20141127_102404_level1b_ppi.nc', '/scratch/kl02/jss548/cp2_level_1b/v2020/ppi/2014/20141127/501_20141127_103004_level1b_ppi.nc', '/scratch/kl02/jss548/cp2_level_1b/v2020/ppi/2014/20141127/501_20141127_103604_level1b_ppi.nc', '/scratch/kl02/jss548/cp2_level_1b/v2020/ppi/2014/20141127/501_20141127_104204_level1b_ppi.nc', '/scratch/kl02/jss548/cp2_level_1b/v2020/ppi/2014/20141127/501_20141127_104804_level1b_ppi.nc', '/scratch/kl02/jss548/cp2_level_1b/v2020/ppi/2014/20141127/501_20141127_105404_level1b_ppi.nc', '/scratch/kl02/jss548/cp2_level_1b/v2020/ppi/2014/20141127/501_20141127_110003_level1b_ppi.nc', '/scratch/kl02/jss548/cp2_level_1b/v2020/ppi/2014/20141127/501_20141127_110604_level1b_ppi.nc', '/scratch/kl02/jss548/cp2_level_1b/v2020/ppi/2014/20141127/501_20141127_111204_level1b_ppi.nc', '/scratch/kl02/jss548/cp2_level_1b/v2020/ppi/2014/20141127/501_20141127_111804_level1b_ppi.nc', '/scratch/kl02/jss548/cp2_level_1b/v2020/ppi/2014/20141127/501_20141127_112404_level1b_ppi.nc', '/scratch/kl02/jss548/cp2_level_1b/v2020/ppi/2014/20141127/501_20141127_113004_level1b_ppi.nc', '/scratch/kl02/jss548/cp2_level_1b/v2020/ppi/2014/20141127/501_20141127_113604_level1b_ppi.nc', '/scratch/kl02/jss548/cp2_level_1b/v2020/ppi/2014/20141127/501_20141127_114204_level1b_ppi.nc', '/scratch/kl02/jss548/cp2_level_1b/v2020/ppi/2014/20141127/501_20141127_114804_level1b_ppi.nc', '/scratch/kl02/jss548/cp2_level_1b/v2020/ppi/2014/20141127/501_20141127_115404_level1b_ppi.nc', '/scratch/kl02/jss548/cp2_level_1b/v2020/ppi/2014/20141127/501_20141127_120003_level1b_ppi.nc', '/scratch/kl02/jss548/cp2_level_1b/v2020/ppi/2014/20141127/501_20141127_120604_level1b_ppi.nc', '/scratch/kl02/jss548/cp2_level_1b/v2020/ppi/2014/20141127/501_20141127_121204_level1b_ppi.nc', '/scratch/kl02/jss548/cp2_level_1b/v2020/ppi/2014/20141127/501_20141127_121804_level1b_ppi.nc', '/scratch/kl02/jss548/cp2_level_1b/v2020/ppi/2014/20141127/501_20141127_122404_level1b_ppi.nc', '/scratch/kl02/jss548/cp2_level_1b/v2020/ppi/2014/20141127/501_20141127_123004_level1b_ppi.nc', '/scratch/kl02/jss548/cp2_level_1b/v2020/ppi/2014/20141127/501_20141127_123604_level1b_ppi.nc', '/scratch/kl02/jss548/cp2_level_1b/v2020/ppi/2014/20141127/501_20141127_124204_level1b_ppi.nc', '/scratch/kl02/jss548/cp2_level_1b/v2020/ppi/2014/20141127/501_20141127_124804_level1b_ppi.nc', '/scratch/kl02/jss548/cp2_level_1b/v2020/ppi/2014/20141127/501_20141127_125404_level1b_ppi.nc', '/scratch/kl02/jss548/cp2_level_1b/v2020/ppi/2014/20141127/501_20141127_130003_level1b_ppi.nc', '/scratch/kl02/jss548/cp2_level_1b/v2020/ppi/2014/20141127/501_20141127_130604_level1b_ppi.nc', '/scratch/kl02/jss548/cp2_level_1b/v2020/ppi/2014/20141127/501_20141127_131204_level1b_ppi.nc', '/scratch/kl02/jss548/cp2_level_1b/v2020/ppi/2014/20141127/501_20141127_131804_level1b_ppi.nc', '/scratch/kl02/jss548/cp2_level_1b/v2020/ppi/2014/20141127/501_20141127_132404_level1b_ppi.nc', '/scratch/kl02/jss548/cp2_level_1b/v2020/ppi/2014/20141127/501_20141127_133004_level1b_ppi.nc', '/scratch/kl02/jss548/cp2_level_1b/v2020/ppi/2014/20141127/501_20141127_133604_level1b_ppi.nc', '/scratch/kl02/jss548/cp2_level_1b/v2020/ppi/2014/20141127/501_20141127_134204_level1b_ppi.nc', '/scratch/kl02/jss548/cp2_level_1b/v2020/ppi/2014/20141127/501_20141127_134804_level1b_ppi.nc', '/scratch/kl02/jss548/cp2_level_1b/v2020/ppi/2014/20141127/501_20141127_135404_level1b_ppi.nc', '/scratch/kl02/jss548/cp2_level_1b/v2020/ppi/2014/20141127/501_20141127_140003_level1b_ppi.nc', '/scratch/kl02/jss548/cp2_level_1b/v2020/ppi/2014/20141127/501_20141127_140604_level1b_ppi.nc', '/scratch/kl02/jss548/cp2_level_1b/v2020/ppi/2014/20141127/501_20141127_141204_level1b_ppi.nc', '/scratch/kl02/jss548/cp2_level_1b/v2020/ppi/2014/20141127/501_20141127_141804_level1b_ppi.nc', '/scratch/kl02/jss548/cp2_level_1b/v2020/ppi/2014/20141127/501_20141127_142404_level1b_ppi.nc', '/scratch/kl02/jss548/cp2_level_1b/v2020/ppi/2014/20141127/501_20141127_143004_level1b_ppi.nc', '/scratch/kl02/jss548/cp2_level_1b/v2020/ppi/2014/20141127/501_20141127_143604_level1b_ppi.nc', '/scratch/kl02/jss548/cp2_level_1b/v2020/ppi/2014/20141127/501_20141127_144204_level1b_ppi.nc', '/scratch/kl02/jss548/cp2_level_1b/v2020/ppi/2014/20141127/501_20141127_144804_level1b_ppi.nc', '/scratch/kl02/jss548/cp2_level_1b/v2020/ppi/2014/20141127/501_20141127_145404_level1b_ppi.nc', '/scratch/kl02/jss548/cp2_level_1b/v2020/ppi/2014/20141127/501_20141127_150003_level1b_ppi.nc', '/scratch/kl02/jss548/cp2_level_1b/v2020/ppi/2014/20141127/501_20141127_150604_level1b_ppi.nc', '/scratch/kl02/jss548/cp2_level_1b/v2020/ppi/2014/20141127/501_20141127_151204_level1b_ppi.nc', '/scratch/kl02/jss548/cp2_level_1b/v2020/ppi/2014/20141127/501_20141127_151804_level1b_ppi.nc', '/scratch/kl02/jss548/cp2_level_1b/v2020/ppi/2014/20141127/501_20141127_152404_level1b_ppi.nc', '/scratch/kl02/jss548/cp2_level_1b/v2020/ppi/2014/20141127/501_20141127_153004_level1b_ppi.nc', '/scratch/kl02/jss548/cp2_level_1b/v2020/ppi/2014/20141127/501_20141127_153604_level1b_ppi.nc', '/scratch/kl02/jss548/cp2_level_1b/v2020/ppi/2014/20141127/501_20141127_154204_level1b_ppi.nc', '/scratch/kl02/jss548/cp2_level_1b/v2020/ppi/2014/20141127/501_20141127_154804_level1b_ppi.nc', '/scratch/kl02/jss548/cp2_level_1b/v2020/ppi/2014/20141127/501_20141127_155404_level1b_ppi.nc', '/scratch/kl02/jss548/cp2_level_1b/v2020/ppi/2014/20141127/501_20141127_160003_level1b_ppi.nc', '/scratch/kl02/jss548/cp2_level_1b/v2020/ppi/2014/20141127/501_20141127_160604_level1b_ppi.nc', '/scratch/kl02/jss548/cp2_level_1b/v2020/ppi/2014/20141127/501_20141127_161204_level1b_ppi.nc', '/scratch/kl02/jss548/cp2_level_1b/v2020/ppi/2014/20141127/501_20141127_161804_level1b_ppi.nc', '/scratch/kl02/jss548/cp2_level_1b/v2020/ppi/2014/20141127/501_20141127_162404_level1b_ppi.nc', '/scratch/kl02/jss548/cp2_level_1b/v2020/ppi/2014/20141127/501_20141127_163004_level1b_ppi.nc', '/scratch/kl02/jss548/cp2_level_1b/v2020/ppi/2014/20141127/501_20141127_163604_level1b_ppi.nc', '/scratch/kl02/jss548/cp2_level_1b/v2020/ppi/2014/20141127/501_20141127_164204_level1b_ppi.nc', '/scratch/kl02/jss548/cp2_level_1b/v2020/ppi/2014/20141127/501_20141127_164804_level1b_ppi.nc', '/scratch/kl02/jss548/cp2_level_1b/v2020/ppi/2014/20141127/501_20141127_165404_level1b_ppi.nc', '/scratch/kl02/jss548/cp2_level_1b/v2020/ppi/2014/20141127/501_20141127_170003_level1b_ppi.nc', '/scratch/kl02/jss548/cp2_level_1b/v2020/ppi/2014/20141127/501_20141127_170604_level1b_ppi.nc', '/scratch/kl02/jss548/cp2_level_1b/v2020/ppi/2014/20141127/501_20141127_171204_level1b_ppi.nc', '/scratch/kl02/jss548/cp2_level_1b/v2020/ppi/2014/20141127/501_20141127_171804_level1b_ppi.nc', '/scratch/kl02/jss548/cp2_level_1b/v2020/ppi/2014/20141127/501_20141127_172404_level1b_ppi.nc', '/scratch/kl02/jss548/cp2_level_1b/v2020/ppi/2014/20141127/501_20141127_173004_level1b_ppi.nc', '/scratch/kl02/jss548/cp2_level_1b/v2020/ppi/2014/20141127/501_20141127_173604_level1b_ppi.nc', '/scratch/kl02/jss548/cp2_level_1b/v2020/ppi/2014/20141127/501_20141127_174204_level1b_ppi.nc', '/scratch/kl02/jss548/cp2_level_1b/v2020/ppi/2014/20141127/501_20141127_174804_level1b_ppi.nc', '/scratch/kl02/jss548/cp2_level_1b/v2020/ppi/2014/20141127/501_20141127_175404_level1b_ppi.nc', '/scratch/kl02/jss548/cp2_level_1b/v2020/ppi/2014/20141127/501_20141127_180003_level1b_ppi.nc', '/scratch/kl02/jss548/cp2_level_1b/v2020/ppi/2014/20141127/501_20141127_180604_level1b_ppi.nc', '/scratch/kl02/jss548/cp2_level_1b/v2020/ppi/2014/20141127/501_20141127_181204_level1b_ppi.nc', '/scratch/kl02/jss548/cp2_level_1b/v2020/ppi/2014/20141127/501_20141127_181803_level1b_ppi.nc', '/scratch/kl02/jss548/cp2_level_1b/v2020/ppi/2014/20141127/501_20141127_182404_level1b_ppi.nc', '/scratch/kl02/jss548/cp2_level_1b/v2020/ppi/2014/20141127/501_20141127_183004_level1b_ppi.nc', '/scratch/kl02/jss548/cp2_level_1b/v2020/ppi/2014/20141127/501_20141127_183604_level1b_ppi.nc', '/scratch/kl02/jss548/cp2_level_1b/v2020/ppi/2014/20141127/501_20141127_184204_level1b_ppi.nc', '/scratch/kl02/jss548/cp2_level_1b/v2020/ppi/2014/20141127/501_20141127_184804_level1b_ppi.nc', '/scratch/kl02/jss548/cp2_level_1b/v2020/ppi/2014/20141127/501_20141127_185404_level1b_ppi.nc', '/scratch/kl02/jss548/cp2_level_1b/v2020/ppi/2014/20141127/501_20141127_190003_level1b_ppi.nc', '/scratch/kl02/jss548/cp2_level_1b/v2020/ppi/2014/20141127/501_20141127_190604_level1b_ppi.nc', '/scratch/kl02/jss548/cp2_level_1b/v2020/ppi/2014/20141127/501_20141127_191204_level1b_ppi.nc', '/scratch/kl02/jss548/cp2_level_1b/v2020/ppi/2014/20141127/501_20141127_191804_level1b_ppi.nc', '/scratch/kl02/jss548/cp2_level_1b/v2020/ppi/2014/20141127/501_20141127_192404_level1b_ppi.nc', '/scratch/kl02/jss548/cp2_level_1b/v2020/ppi/2014/20141127/501_20141127_193004_level1b_ppi.nc', '/scratch/kl02/jss548/cp2_level_1b/v2020/ppi/2014/20141127/501_20141127_193604_level1b_ppi.nc', '/scratch/kl02/jss548/cp2_level_1b/v2020/ppi/2014/20141127/501_20141127_194204_level1b_ppi.nc', '/scratch/kl02/jss548/cp2_level_1b/v2020/ppi/2014/20141127/501_20141127_194804_level1b_ppi.nc', '/scratch/kl02/jss548/cp2_level_1b/v2020/ppi/2014/20141127/501_20141127_195404_level1b_ppi.nc', '/scratch/kl02/jss548/cp2_level_1b/v2020/ppi/2014/20141127/501_20141127_200003_level1b_ppi.nc', '/scratch/kl02/jss548/cp2_level_1b/v2020/ppi/2014/20141127/501_20141127_200604_level1b_ppi.nc', '/scratch/kl02/jss548/cp2_level_1b/v2020/ppi/2014/20141127/501_20141127_201204_level1b_ppi.nc', '/scratch/kl02/jss548/cp2_level_1b/v2020/ppi/2014/20141127/501_20141127_201804_level1b_ppi.nc', '/scratch/kl02/jss548/cp2_level_1b/v2020/ppi/2014/20141127/501_20141127_202404_level1b_ppi.nc', '/scratch/kl02/jss548/cp2_level_1b/v2020/ppi/2014/20141127/501_20141127_203004_level1b_ppi.nc', '/scratch/kl02/jss548/cp2_level_1b/v2020/ppi/2014/20141127/501_20141127_203604_level1b_ppi.nc', '/scratch/kl02/jss548/cp2_level_1b/v2020/ppi/2014/20141127/501_20141127_204204_level1b_ppi.nc', '/scratch/kl02/jss548/cp2_level_1b/v2020/ppi/2014/20141127/501_20141127_204804_level1b_ppi.nc', '/scratch/kl02/jss548/cp2_level_1b/v2020/ppi/2014/20141127/501_20141127_205404_level1b_ppi.nc', '/scratch/kl02/jss548/cp2_level_1b/v2020/ppi/2014/20141127/501_20141127_210003_level1b_ppi.nc', '/scratch/kl02/jss548/cp2_level_1b/v2020/ppi/2014/20141127/501_20141127_210604_level1b_ppi.nc', '/scratch/kl02/jss548/cp2_level_1b/v2020/ppi/2014/20141127/501_20141127_211204_level1b_ppi.nc', '/scratch/kl02/jss548/cp2_level_1b/v2020/ppi/2014/20141127/501_20141127_211804_level1b_ppi.nc', '/scratch/kl02/jss548/cp2_level_1b/v2020/ppi/2014/20141127/501_20141127_212404_level1b_ppi.nc', '/scratch/kl02/jss548/cp2_level_1b/v2020/ppi/2014/20141127/501_20141127_213004_level1b_ppi.nc', '/scratch/kl02/jss548/cp2_level_1b/v2020/ppi/2014/20141127/501_20141127_213604_level1b_ppi.nc', '/scratch/kl02/jss548/cp2_level_1b/v2020/ppi/2014/20141127/501_20141127_214204_level1b_ppi.nc', '/scratch/kl02/jss548/cp2_level_1b/v2020/ppi/2014/20141127/501_20141127_214804_level1b_ppi.nc', '/scratch/kl02/jss548/cp2_level_1b/v2020/ppi/2014/20141127/501_20141127_215404_level1b_ppi.nc', '/scratch/kl02/jss548/cp2_level_1b/v2020/ppi/2014/20141127/501_20141127_220003_level1b_ppi.nc', '/scratch/kl02/jss548/cp2_level_1b/v2020/ppi/2014/20141127/501_20141127_220604_level1b_ppi.nc', '/scratch/kl02/jss548/cp2_level_1b/v2020/ppi/2014/20141127/501_20141127_221204_level1b_ppi.nc', '/scratch/kl02/jss548/cp2_level_1b/v2020/ppi/2014/20141127/501_20141127_221804_level1b_ppi.nc', '/scratch/kl02/jss548/cp2_level_1b/v2020/ppi/2014/20141127/501_20141127_222404_level1b_ppi.nc', '/scratch/kl02/jss548/cp2_level_1b/v2020/ppi/2014/20141127/501_20141127_223004_level1b_ppi.nc', '/scratch/kl02/jss548/cp2_level_1b/v2020/ppi/2014/20141127/501_20141127_223604_level1b_ppi.nc', '/scratch/kl02/jss548/cp2_level_1b/v2020/ppi/2014/20141127/501_20141127_224206_level1b_ppi.nc', '/scratch/kl02/jss548/cp2_level_1b/v2020/ppi/2014/20141127/501_20141127_224805_level1b_ppi.nc', '/scratch/kl02/jss548/cp2_level_1b/v2020/ppi/2014/20141127/501_20141127_225404_level1b_ppi.nc', '/scratch/kl02/jss548/cp2_level_1b/v2020/ppi/2014/20141127/501_20141127_230003_level1b_ppi.nc', '/scratch/kl02/jss548/cp2_level_1b/v2020/ppi/2014/20141127/501_20141127_230604_level1b_ppi.nc', '/scratch/kl02/jss548/cp2_level_1b/v2020/ppi/2014/20141127/501_20141127_231204_level1b_ppi.nc', '/scratch/kl02/jss548/cp2_level_1b/v2020/ppi/2014/20141127/501_20141127_231804_level1b_ppi.nc', '/scratch/kl02/jss548/cp2_level_1b/v2020/ppi/2014/20141127/501_20141127_232404_level1b_ppi.nc', '/scratch/kl02/jss548/cp2_level_1b/v2020/ppi/2014/20141127/501_20141127_233004_level1b_ppi.nc', '/scratch/kl02/jss548/cp2_level_1b/v2020/ppi/2014/20141127/501_20141127_233604_level1b_ppi.nc', '/scratch/kl02/jss548/cp2_level_1b/v2020/ppi/2014/20141127/501_20141127_234206_level1b_ppi.nc', '/scratch/kl02/jss548/cp2_level_1b/v2020/ppi/2014/20141127/501_20141127_234805_level1b_ppi.nc', '/scratch/kl02/jss548/cp2_level_1b/v2020/ppi/2014/20141127/501_20141127_235404_level1b_ppi.nc']\n"
     ]
    }
   ],
   "source": [
    "flist = sorted(glob.glob('/scratch/kl02/jss548/cp2_level_1b/v2020/ppi/2014/20141127/*.nc', recursive=True))\n",
    "print(flist)"
   ]
  },
  {
   "cell_type": "code",
   "execution_count": 4,
   "metadata": {},
   "outputs": [
    {
     "name": "stdout",
     "output_type": "stream",
     "text": [
      "Output file /scratch/kl02/jss548/cp2_level_1b/v2020/grid_150km_1000m/2014/20141127/501_20141127_000000_level1b_grid150km.nc already exists. Doing nothing.\n"
     ]
    }
   ],
   "source": [
    "#single thread\n",
    "process(flist[0])"
   ]
  },
  {
   "cell_type": "code",
   "execution_count": 5,
   "metadata": {
    "ExecuteTime": {
     "end_time": "2020-06-06T01:38:08.943822Z",
     "start_time": "2020-06-06T01:27:28.922273Z"
    }
   },
   "outputs": [
    {
     "name": "stdout",
     "output_type": "stream",
     "text": [
      "[########################################] | 100% Completed | 36.0s\n"
     ]
    }
   ],
   "source": [
    "#multi thread\n",
    "bag = db.from_sequence(flist).map(process)\n",
    "with ProgressBar():\n",
    "    rslt = bag.compute()"
   ]
  },
  {
   "cell_type": "code",
   "execution_count": null,
   "metadata": {},
   "outputs": [],
   "source": []
  }
 ],
 "metadata": {
  "kernelspec": {
   "display_name": "Python 3",
   "language": "python",
   "name": "python3"
  },
  "language_info": {
   "codemirror_mode": {
    "name": "ipython",
    "version": 3
   },
   "file_extension": ".py",
   "mimetype": "text/x-python",
   "name": "python",
   "nbconvert_exporter": "python",
   "pygments_lexer": "ipython3",
   "version": "3.8.5"
  },
  "varInspector": {
   "cols": {
    "lenName": 16,
    "lenType": 16,
    "lenVar": 40
   },
   "kernels_config": {
    "python": {
     "delete_cmd_postfix": "",
     "delete_cmd_prefix": "del ",
     "library": "var_list.py",
     "varRefreshCmd": "print(var_dic_list())"
    },
    "r": {
     "delete_cmd_postfix": ") ",
     "delete_cmd_prefix": "rm(",
     "library": "var_list.r",
     "varRefreshCmd": "cat(var_dic_list()) "
    }
   },
   "types_to_exclude": [
    "module",
    "function",
    "builtin_function_or_method",
    "instance",
    "_Feature"
   ],
   "window_display": false
  }
 },
 "nbformat": 4,
 "nbformat_minor": 4
}

{
 "cells": [
  {
   "cell_type": "code",
   "execution_count": 47,
   "metadata": {},
   "outputs": [],
   "source": [
    "import glob\n",
    "import os\n",
    "import warnings\n",
    "import grids\n",
    "import traceback\n",
    "import pyart\n",
    "\n",
    "import xarray as xr\n",
    "\n",
    "warnings.simplefilter('ignore')\n",
    "from concurrent.futures import ProcessPoolExecutor"
   ]
  },
  {
   "cell_type": "code",
   "execution_count": 15,
   "metadata": {},
   "outputs": [],
   "source": [
    "def read_data(infile):\n",
    "    import pyart\n",
    "    radar = pyart.io.read(infile)\n",
    "    refl = radar.fields['corrected_reflectivity']['data']\n",
    "    return refl"
   ]
  },
  {
   "cell_type": "code",
   "execution_count": 16,
   "metadata": {},
   "outputs": [],
   "source": [
    "def process(infile):\n",
    "    try:\n",
    "        grids.radar_gridding(infile, \"/short/kl02/vhl548/tmp_grid\")\n",
    "    except Exception:\n",
    "        traceback.print_exc()\n",
    "        print(f\"problem with {infile}\")\n",
    "        \n",
    "    return None\n",
    "        "
   ]
  },
  {
   "cell_type": "code",
   "execution_count": 19,
   "metadata": {},
   "outputs": [],
   "source": [
    "def chunks(l, n):\n",
    "    \"\"\"\n",
    "    Yield successive n-sized chunks from l.\n",
    "    From http://stackoverflow.com/a/312464\n",
    "    \"\"\"\n",
    "    for i in range(0, len(l), n):\n",
    "        yield l[i:i + n]"
   ]
  },
  {
   "cell_type": "code",
   "execution_count": 21,
   "metadata": {},
   "outputs": [
    {
     "name": "stdout",
     "output_type": "stream",
     "text": [
      "cfrad.20130310_112001.000_to_20130310_112839.000_CPOL_PPI_level1b.nc processed in 17.04.\n",
      "cfrad.20130310_190001.000_to_20130310_190843.000_CPOL_PPI_level1b.nc processed in 18.42.\n",
      "cfrad.20130310_212002.000_to_20130310_212834.000_CPOL_PPI_level1b.nc processed in 18.47.\n",
      "cfrad.20130310_205001.000_to_20130310_205841.000_CPOL_PPI_level1b.nc processed in 18.60.cfrad.20130310_122002.000_to_20130310_122832.000_CPOL_PPI_level1b.nc processed in 18.58.\n",
      "\n",
      "cfrad.20130310_161008.000_to_20130310_161839.000_CPOL_PPI_level1b.nc processed in 18.72.\n",
      "cfrad.20130310_181008.000_to_20130310_181845.000_CPOL_PPI_level1b.nc processed in 18.74.\n",
      "cfrad.20130310_095002.000_to_20130310_095845.000_CPOL_PPI_level1b.nc processed in 18.82.cfrad.20130310_124002.000_to_20130310_124832.000_CPOL_PPI_level1b.nc processed in 18.81.\n",
      "\n",
      "cfrad.20130310_133002.000_to_20130310_133828.000_CPOL_PPI_level1b.nc processed in 18.98.\n",
      "cfrad.20130310_083002.000_to_20130310_083841.000_CPOL_PPI_level1b.nc processed in 19.36.\n",
      "cfrad.20130310_123002.000_to_20130310_123830.000_CPOL_PPI_level1b.nc processed in 19.59.\n",
      "cfrad.20130310_210002.000_to_20130310_210838.000_CPOL_PPI_level1b.nc processed in 19.86.\n",
      "cfrad.20130310_051009.000_to_20130310_051850.000_CPOL_PPI_level1b.nc processed in 19.88.\n",
      "cfrad.20130310_100001.000_to_20130310_100835.000_CPOL_PPI_level1b.nc processed in 20.16.\n",
      "cfrad.20130310_084002.000_to_20130310_084839.000_CPOL_PPI_level1b.nc processed in 20.52.\n",
      "cfrad.20130310_085001.000_to_20130310_085833.000_CPOL_PPI_level1b.nc processed in 20.76.\n",
      "cfrad.20130310_012002.000_to_20130310_012832.000_CPOL_PPI_level1b.nc processed in 21.18.\n",
      "cfrad.20130310_014001.000_to_20130310_014832.000_CPOL_PPI_level1b.nc processed in 21.49.\n",
      "cfrad.20130310_072002.000_to_20130310_072838.000_CPOL_PPI_level1b.nc processed in 22.38.\n",
      "cfrad.20130310_202001.000_to_20130310_202850.000_CPOL_PPI_level1b.nc processed in 16.21.\n",
      "cfrad.20130310_185002.000_to_20130310_185834.000_CPOL_PPI_level1b.nc processed in 17.17.\n",
      "cfrad.20130310_111008.000_to_20130310_111844.000_CPOL_PPI_level1b.nc processed in 18.07.\n",
      "cfrad.20130310_204001.000_to_20130310_204840.000_CPOL_PPI_level1b.nc processed in 18.35.\n",
      "cfrad.20130310_183001.000_to_20130310_183856.000_CPOL_PPI_level1b.nc processed in 18.47.\n",
      "cfrad.20130310_000002.000_to_20130310_000830.000_CPOL_PPI_level1b.nc processed in 19.42.\n",
      "cfrad.20130310_053002.000_to_20130310_053845.000_CPOL_PPI_level1b.nc processed in 19.46.\n",
      "cfrad.20130310_160002.000_to_20130310_160832.000_CPOL_PPI_level1b.nc processed in 20.10.\n",
      "cfrad.20130310_082001.000_to_20130310_082835.000_CPOL_PPI_level1b.nc processed in 20.14.\n",
      "cfrad.20130310_145002.000_to_20130310_145832.000_CPOL_PPI_level1b.nc processed in 20.19.\n",
      "cfrad.20130310_071008.000_to_20130310_071847.000_CPOL_PPI_level1b.nc processed in 20.53.\n",
      "cfrad.20130310_050002.000_to_20130310_050840.000_CPOL_PPI_level1b.nc processed in 20.85.\n",
      "cfrad.20130310_020002.000_to_20130310_020832.000_CPOL_PPI_level1b.nc processed in 21.24.\n",
      "cfrad.20130310_024002.000_to_20130310_024832.000_CPOL_PPI_level1b.nc processed in 21.59.\n",
      "cfrad.20130310_064002.000_to_20130310_064853.000_CPOL_PPI_level1b.nc processed in 21.63.\n",
      "cfrad.20130310_042001.000_to_20130310_042841.000_CPOL_PPI_level1b.nc processed in 21.99.\n",
      "cfrad.20130310_060002.000_to_20130310_060846.000_CPOL_PPI_level1b.nc processed in 22.10.\n",
      "cfrad.20130310_074002.000_to_20130310_074838.000_CPOL_PPI_level1b.nc processed in 22.87.\n",
      "cfrad.20130310_075001.000_to_20130310_075837.000_CPOL_PPI_level1b.nc processed in 23.08.\n",
      "cfrad.20130310_073002.000_to_20130310_073844.000_CPOL_PPI_level1b.nc processed in 23.18.\n",
      "cfrad.20130310_230001.000_to_20130310_230846.000_CPOL_PPI_level1b.nc processed in 18.39.\n",
      "cfrad.20130310_201009.000_to_20130310_201850.000_CPOL_PPI_level1b.nc processed in 18.55.\n",
      "cfrad.20130310_203002.000_to_20130310_203849.000_CPOL_PPI_level1b.nc processed in 18.85.\n",
      "cfrad.20130310_215002.000_to_20130310_215837.000_CPOL_PPI_level1b.nc processed in 18.89.\n",
      "cfrad.20130310_151008.000_to_20130310_151836.000_CPOL_PPI_level1b.nc processed in 19.17.\n",
      "cfrad.20130310_003002.000_to_20130310_003836.000_CPOL_PPI_level1b.nc processed in 19.49.\n",
      "cfrad.20130310_234002.000_to_20130310_234840.000_CPOL_PPI_level1b.nc processed in 19.58.\n",
      "cfrad.20130310_114002.000_to_20130310_114828.000_CPOL_PPI_level1b.nc processed in 19.60.cfrad.20130310_154001.000_to_20130310_154842.000_CPOL_PPI_level1b.nc processed in 19.59.\n",
      "\n",
      "cfrad.20130310_224002.000_to_20130310_224839.000_CPOL_PPI_level1b.nc processed in 19.77.\n",
      "cfrad.20130310_194002.000_to_20130310_194847.000_CPOL_PPI_level1b.nc processed in 19.82.\n",
      "cfrad.20130310_131009.000_to_20130310_131841.000_CPOL_PPI_level1b.nc processed in 19.90.\n",
      "cfrad.20130310_092002.000_to_20130310_092832.000_CPOL_PPI_level1b.nc processed in 20.04.\n",
      "cfrad.20130310_134003.000_to_20130310_134833.000_CPOL_PPI_level1b.nc processed in 20.71.\n",
      "cfrad.20130310_115002.000_to_20130310_115833.000_CPOL_PPI_level1b.nc processed in 20.81.\n",
      "cfrad.20130310_021008.000_to_20130310_021839.000_CPOL_PPI_level1b.nc processed in 21.69.\n",
      "cfrad.20130310_152001.000_to_20130310_152828.000_CPOL_PPI_level1b.nc processed in 21.83.\n",
      "cfrad.20130310_013002.000_to_20130310_013834.000_CPOL_PPI_level1b.nc processed in 21.89.\n",
      "cfrad.20130310_163002.000_to_20130310_163834.000_CPOL_PPI_level1b.nc processed in 21.98.\n",
      "cfrad.20130310_171008.000_to_20130310_171851.000_CPOL_PPI_level1b.nc processed in 23.38.\n",
      "cfrad.20130310_220001.000_to_20130310_220833.000_CPOL_PPI_level1b.nc processed in 18.46.\n",
      "cfrad.20130310_113002.000_to_20130310_113830.000_CPOL_PPI_level1b.nc processed in 19.03.\n",
      "cfrad.20130310_135001.000_to_20130310_135829.000_CPOL_PPI_level1b.nc processed in 19.11.\n",
      "cfrad.20130310_232002.000_to_20130310_232834.000_CPOL_PPI_level1b.nc processed in 19.19.\n",
      "cfrad.20130310_180002.000_to_20130310_180843.000_CPOL_PPI_level1b.nc processed in 19.22.\n",
      "cfrad.20130310_121009.000_to_20130310_121850.000_CPOL_PPI_level1b.nc processed in 19.42.\n",
      "cfrad.20130310_191008.000_to_20130310_191853.000_CPOL_PPI_level1b.nc processed in 19.51.\n",
      "cfrad.20130310_165002.000_to_20130310_165841.000_CPOL_PPI_level1b.nc processed in 19.56.\n",
      "cfrad.20130310_221008.000_to_20130310_221847.000_CPOL_PPI_level1b.nc processed in 19.69.\n",
      "cfrad.20130310_005001.000_to_20130310_005830.000_CPOL_PPI_level1b.nc processed in 20.05.\n",
      "cfrad.20130310_002002.000_to_20130310_002837.000_CPOL_PPI_level1b.nc processed in 20.35.\n",
      "cfrad.20130310_001009.000_to_20130310_001842.000_CPOL_PPI_level1b.nc processed in 21.41.\n",
      "cfrad.20130310_150002.000_to_20130310_150834.000_CPOL_PPI_level1b.nc processed in 21.56.\n",
      "cfrad.20130310_032002.000_to_20130310_032836.000_CPOL_PPI_level1b.nc processed in 21.86.\n",
      "cfrad.20130310_033001.000_to_20130310_033848.000_CPOL_PPI_level1b.nc processed in 21.93.\n",
      "cfrad.20130310_055002.000_to_20130310_055843.000_CPOL_PPI_level1b.nc processed in 22.56.\n",
      "cfrad.20130310_164002.000_to_20130310_164839.000_CPOL_PPI_level1b.nc processed in 22.62.\n",
      "cfrad.20130310_132001.000_to_20130310_132828.000_CPOL_PPI_level1b.nc processed in 22.67.\n",
      "cfrad.20130310_035002.000_to_20130310_035842.000_CPOL_PPI_level1b.nc processed in 23.23.\n",
      "cfrad.20130310_023001.000_to_20130310_023831.000_CPOL_PPI_level1b.nc processed in 23.46.\n",
      "cfrad.20130310_222002.000_to_20130310_222838.000_CPOL_PPI_level1b.nc processed in 13.72.\n",
      "cfrad.20130310_101008.000_to_20130310_101842.000_CPOL_PPI_level1b.nc processed in 14.17.\n",
      "cfrad.20130310_231009.000_to_20130310_231845.000_CPOL_PPI_level1b.nc processed in 14.18.\n",
      "cfrad.20130310_102002.000_to_20130310_102834.000_CPOL_PPI_level1b.nc processed in 14.67.\n",
      "cfrad.20130310_093002.000_to_20130310_093844.000_CPOL_PPI_level1b.nc processed in 15.01.\n",
      "cfrad.20130310_175002.000_to_20130310_175854.000_CPOL_PPI_level1b.nc processed in 15.01.\n",
      "cfrad.20130310_192003.000_to_20130310_192851.000_CPOL_PPI_level1b.nc processed in 15.41.\n",
      "cfrad.20130310_213002.000_to_20130310_213849.000_CPOL_PPI_level1b.nc processed in 15.58.\n",
      "cfrad.20130310_141008.000_to_20130310_141840.000_CPOL_PPI_level1b.nc processed in 16.41.\n",
      "cfrad.20130310_080002.000_to_20130310_080836.000_CPOL_PPI_level1b.nc processed in 17.24.\n",
      "cfrad.20130310_062002.000_to_20130310_062840.000_CPOL_PPI_level1b.nc processed in 18.58.\n",
      "cfrad.20130310_054001.000_to_20130310_054841.000_CPOL_PPI_level1b.nc processed in 18.65.\n"
     ]
    }
   ],
   "source": [
    "for fl in chunks(flist[50:], 20):\n",
    "    e = ProcessPoolExecutor()\n",
    "    data = list(e.map(process, fl))"
   ]
  },
  {
   "cell_type": "code",
   "execution_count": null,
   "metadata": {},
   "outputs": [],
   "source": []
  }
 ],
 "metadata": {
  "kernelspec": {
   "display_name": "Python 3",
   "language": "python",
   "name": "python3"
  },
  "language_info": {
   "codemirror_mode": {
    "name": "ipython",
    "version": 3
   },
   "file_extension": ".py",
   "mimetype": "text/x-python",
   "name": "python",
   "nbconvert_exporter": "python",
   "pygments_lexer": "ipython3",
   "version": "3.7.3"
  }
 },
 "nbformat": 4,
 "nbformat_minor": 2
}

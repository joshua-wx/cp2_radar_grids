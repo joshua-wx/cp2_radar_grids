{
 "cells": [
  {
   "cell_type": "code",
   "execution_count": 1,
   "metadata": {
    "ExecuteTime": {
     "end_time": "2020-06-06T01:26:28.082716Z",
     "start_time": "2020-06-06T01:26:25.819672Z"
    }
   },
   "outputs": [],
   "source": [
    "import os\n",
    "import glob\n",
    "import warnings\n",
    "import traceback\n",
    "\n",
    "import pyart\n",
    "import cftime\n",
    "import radar_grids\n",
    "import xarray as xr\n",
    "\n",
    "import dask\n",
    "import dask.bag as db\n",
    "from dask.diagnostics import ProgressBar\n",
    "\n",
    "warnings.simplefilter('ignore')"
   ]
  },
  {
   "cell_type": "code",
   "execution_count": 2,
   "metadata": {
    "ExecuteTime": {
     "end_time": "2020-06-06T01:26:28.087037Z",
     "start_time": "2020-06-06T01:26:28.084323Z"
    }
   },
   "outputs": [],
   "source": [
    "def process(infile):\n",
    "    try:\n",
    "        radar_grids.gridding(infile, \"/scratch/kl02/vhl548/cpol_level_1b/v2020/gridded/\")\n",
    "    except Exception:\n",
    "        traceback.print_exc()\n",
    "        print(f\"problem with {infile}\")\n",
    "        \n",
    "    return None"
   ]
  },
  {
   "cell_type": "code",
   "execution_count": 10,
   "metadata": {
    "ExecuteTime": {
     "end_time": "2020-06-06T02:33:10.989471Z",
     "start_time": "2020-06-06T02:33:10.463717Z"
    }
   },
   "outputs": [],
   "source": [
    "flist = sorted(glob.glob('/scratch/kl02/vhl548/cpol_level_1b/v2020/ppi/1999/**/*.nc'))"
   ]
  },
  {
   "cell_type": "code",
   "execution_count": 8,
   "metadata": {
    "ExecuteTime": {
     "end_time": "2020-06-06T01:38:08.943822Z",
     "start_time": "2020-06-06T01:27:28.922273Z"
    }
   },
   "outputs": [
    {
     "name": "stdout",
     "output_type": "stream",
     "text": [
      "[########################################] | 100% Completed | 10min 39.4s\n"
     ]
    }
   ],
   "source": [
    "bag = db.from_sequence(flist).map(process)\n",
    "with ProgressBar():\n",
    "    rslt = bag.compute()"
   ]
  },
  {
   "cell_type": "code",
   "execution_count": 9,
   "metadata": {
    "ExecuteTime": {
     "end_time": "2020-06-06T02:33:04.809633Z",
     "start_time": "2020-06-06T02:33:04.800977Z"
    }
   },
   "outputs": [
    {
     "data": {
      "text/plain": [
       "2335"
      ]
     },
     "execution_count": 9,
     "metadata": {},
     "output_type": "execute_result"
    }
   ],
   "source": [
    "len(flist)"
   ]
  },
  {
   "cell_type": "code",
   "execution_count": null,
   "metadata": {},
   "outputs": [],
   "source": []
  }
 ],
 "metadata": {
  "kernelspec": {
   "display_name": "Python 3",
   "language": "python",
   "name": "python3"
  },
  "language_info": {
   "codemirror_mode": {
    "name": "ipython",
    "version": 3
   },
   "file_extension": ".py",
   "mimetype": "text/x-python",
   "name": "python",
   "nbconvert_exporter": "python",
   "pygments_lexer": "ipython3",
   "version": "3.8.3"
  },
  "varInspector": {
   "cols": {
    "lenName": 16,
    "lenType": 16,
    "lenVar": 40
   },
   "kernels_config": {
    "python": {
     "delete_cmd_postfix": "",
     "delete_cmd_prefix": "del ",
     "library": "var_list.py",
     "varRefreshCmd": "print(var_dic_list())"
    },
    "r": {
     "delete_cmd_postfix": ") ",
     "delete_cmd_prefix": "rm(",
     "library": "var_list.r",
     "varRefreshCmd": "cat(var_dic_list()) "
    }
   },
   "types_to_exclude": [
    "module",
    "function",
    "builtin_function_or_method",
    "instance",
    "_Feature"
   ],
   "window_display": false
  }
 },
 "nbformat": 4,
 "nbformat_minor": 2
}

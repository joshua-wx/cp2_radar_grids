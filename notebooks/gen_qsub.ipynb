{
 "cells": [
  {
   "cell_type": "code",
   "execution_count": 2,
   "metadata": {
    "ExecuteTime": {
     "end_time": "2020-03-16T01:08:55.620313Z",
     "start_time": "2020-03-16T01:08:55.616106Z"
    }
   },
   "outputs": [],
   "source": [
    "import os\n",
    "import glob\n",
    "import datetime\n",
    "import calendar\n",
    "\n",
    "from math import ceil"
   ]
  },
  {
   "cell_type": "code",
   "execution_count": 3,
   "metadata": {
    "ExecuteTime": {
     "end_time": "2020-03-16T01:08:55.830191Z",
     "start_time": "2020-03-16T01:08:55.824918Z"
    }
   },
   "outputs": [],
   "source": [
    "def configuration_file(start_date='19990101', end_date='19990131', walltime=10):\n",
    "    conf_txt = f\"\"\"#!/bin/bash\n",
    "#PBS -P kl02\n",
    "#PBS -q normal\n",
    "#PBS -l walltime={walltime}:00:00\n",
    "#PBS -l mem=64GB\n",
    "#PBS -l wd\n",
    "#PBS -l ncpus=16\n",
    "#PBS -lstorage=scratch/kl02\n",
    "source activate radar\n",
    "\n",
    "python radar_pack.py -s {start_date} -e {end_date} -i /scratch/kl02/vhl548/cpol/v2018/ppi -o /scratch/kl02/vhl548/cpol/v2018/\n",
    "\"\"\"\n",
    "    return conf_txt"
   ]
  },
  {
   "cell_type": "code",
   "execution_count": 19,
   "metadata": {
    "ExecuteTime": {
     "end_time": "2020-03-16T01:14:37.173179Z",
     "start_time": "2020-03-16T01:14:31.829062Z"
    }
   },
   "outputs": [],
   "source": [
    "for year in range(1999, 2018):\n",
    "    for month in range(1, 13):\n",
    "        if month > 7 and month < 10:\n",
    "            continue\n",
    "\n",
    "        if month < 8:\n",
    "            season_st = ((year - 1) % 100)\n",
    "            season_nd = ((year) % 100)\n",
    "        else:\n",
    "            season_st = (year % 100)\n",
    "            season_nd = ((year + 1) % 100)\n",
    "        season = \"%02i%02i\" % (season_st, season_nd)\n",
    " \n",
    "        indir = \"/scratch/kl02/vhl548/cpol/v2018/ppi\"\n",
    "        indir += \"/%i/%i%02i\" % (year, year, month)\n",
    "        dirlist = glob.glob(indir + \"*\")\n",
    "        flist = glob.glob(indir + \"**/*.*\")\n",
    "        \n",
    "        if len(dirlist) == 0:\n",
    "            continue\n",
    "            \n",
    "        wtime = (len(dirlist) / 3600)\n",
    "        if wtime > 1:\n",
    "            wtime = ceil(wtime)\n",
    "        else:\n",
    "            wtime = 1\n",
    "\n",
    "        _, ed = calendar.monthrange(year, month)\n",
    "        sdatestr = \"%i%02i%02i\" % (year, month, 1)\n",
    "        edatestr = \"%i%02i%02i\" % (year, month, ed)\n",
    "        f = configuration_file(sdatestr, edatestr, wtime)\n",
    "        \n",
    "\n",
    "        fname = \"../radar_grids/qgrid_%i%02i.pbs\" % (year, month)\n",
    "        with open(fname, 'w') as fid:\n",
    "            fid.write(f)"
   ]
  },
  {
   "cell_type": "code",
   "execution_count": null,
   "metadata": {},
   "outputs": [],
   "source": []
  }
 ],
 "metadata": {
  "kernelspec": {
   "display_name": "Python 3",
   "language": "python",
   "name": "python3"
  },
  "language_info": {
   "codemirror_mode": {
    "name": "ipython",
    "version": 3
   },
   "file_extension": ".py",
   "mimetype": "text/x-python",
   "name": "python",
   "nbconvert_exporter": "python",
   "pygments_lexer": "ipython3",
   "version": "3.8.2"
  },
  "varInspector": {
   "cols": {
    "lenName": 16,
    "lenType": 16,
    "lenVar": 40
   },
   "kernels_config": {
    "python": {
     "delete_cmd_postfix": "",
     "delete_cmd_prefix": "del ",
     "library": "var_list.py",
     "varRefreshCmd": "print(var_dic_list())"
    },
    "r": {
     "delete_cmd_postfix": ") ",
     "delete_cmd_prefix": "rm(",
     "library": "var_list.r",
     "varRefreshCmd": "cat(var_dic_list()) "
    }
   },
   "types_to_exclude": [
    "module",
    "function",
    "builtin_function_or_method",
    "instance",
    "_Feature"
   ],
   "window_display": false
  }
 },
 "nbformat": 4,
 "nbformat_minor": 2
}

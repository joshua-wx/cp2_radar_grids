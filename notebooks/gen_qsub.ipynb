{
 "cells": [
  {
   "cell_type": "code",
   "execution_count": null,
   "metadata": {
    "ExecuteTime": {
     "end_time": "2020-06-28T03:48:17.265988Z",
     "start_time": "2020-06-28T03:48:17.259282Z"
    }
   },
   "outputs": [],
   "source": [
    "def configuration_file(year=1999, walltime=8):\n",
    "    if year == 2009:\n",
    "        walltime=1\n",
    "    start_date = f'{year}0101'\n",
    "    end_date = f'{year}1231'\n",
    "\n",
    "    conf_txt = f\"\"\"#!/bin/bash\n",
    "#PBS -P kl02\n",
    "#PBS -q normal\n",
    "#PBS -l walltime={walltime}:00:00\n",
    "#PBS -l mem=64GB\n",
    "#PBS -l wd\n",
    "#PBS -l ncpus=16\n",
    "#PBS -lstorage=scratch/kl02\n",
    "source activate radar\n",
    "\n",
    "python radar_pack.py -s {start_date} -e {end_date} -i /scratch/kl02/vhl548/cpol_level_1b/v2020/v2020/ppi/ -o /scratch/kl02/vhl548/cpol_level_1b/v2020/v2020/gridded/\n",
    "\"\"\"\n",
    "    return conf_txt"
   ]
  },
  {
   "cell_type": "code",
   "execution_count": null,
   "metadata": {
    "ExecuteTime": {
     "end_time": "2020-06-28T03:48:18.585606Z",
     "start_time": "2020-06-28T03:48:18.556484Z"
    }
   },
   "outputs": [],
   "source": [
    "for year in range(2009, 2018):\n",
    "    if year == 2014:\n",
    "        continue\n",
    "    txt = configuration_file(year)\n",
    "    outfile = f\"../scripts/qgrid_{year}.pbs\"\n",
    "    with open(outfile, 'w+') as fid:\n",
    "        fid.write(txt)"
   ]
  },
  {
   "cell_type": "code",
   "execution_count": null,
   "metadata": {},
   "outputs": [],
   "source": []
  }
 ],
 "metadata": {
  "kernelspec": {
   "display_name": "Python 3",
   "language": "python",
   "name": "python3"
  },
  "language_info": {
   "codemirror_mode": {
    "name": "ipython",
    "version": 3
   },
   "file_extension": ".py",
   "mimetype": "text/x-python",
   "name": "python",
   "nbconvert_exporter": "python",
   "pygments_lexer": "ipython3",
   "version": "3.8.3"
  },
  "varInspector": {
   "cols": {
    "lenName": 16,
    "lenType": 16,
    "lenVar": 40
   },
   "kernels_config": {
    "python": {
     "delete_cmd_postfix": "",
     "delete_cmd_prefix": "del ",
     "library": "var_list.py",
     "varRefreshCmd": "print(var_dic_list())"
    },
    "r": {
     "delete_cmd_postfix": ") ",
     "delete_cmd_prefix": "rm(",
     "library": "var_list.r",
     "varRefreshCmd": "cat(var_dic_list()) "
    }
   },
   "types_to_exclude": [
    "module",
    "function",
    "builtin_function_or_method",
    "instance",
    "_Feature"
   ],
   "window_display": false
  }
 },
 "nbformat": 4,
 "nbformat_minor": 2
}

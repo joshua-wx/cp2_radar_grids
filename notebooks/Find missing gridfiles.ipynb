{
 "cells": [
  {
   "cell_type": "code",
   "execution_count": 1,
   "metadata": {},
   "outputs": [
    {
     "name": "stderr",
     "output_type": "stream",
     "text": [
      "/short/en0/vhl548/miniconda3/envs/radar/lib/python3.7/site-packages/pyart/graph/cm.py:104: FutureWarning: elementwise comparison failed; returning scalar instead, but in the future will perform elementwise comparison\n",
      "  if 'red' in spec:\n",
      "/short/en0/vhl548/miniconda3/envs/radar/lib/python3.7/site-packages/pyart/graph/cm_colorblind.py:32: FutureWarning: elementwise comparison failed; returning scalar instead, but in the future will perform elementwise comparison\n",
      "  if 'red' in spec:\n",
      "/short/en0/vhl548/miniconda3/envs/radar/lib/python3.7/site-packages/heapdict.py:11: DeprecationWarning: Using or importing the ABCs from 'collections' instead of from 'collections.abc' is deprecated, and in 3.8 it will stop working\n",
      "  class heapdict(collections.MutableMapping):\n"
     ]
    }
   ],
   "source": [
    "import os\n",
    "import json\n",
    "import warnings\n",
    "import traceback\n",
    "\n",
    "import numpy as np\n",
    "import pandas as pd\n",
    "\n",
    "import grids\n",
    "\n",
    "import dask\n",
    "import dask.bag as db\n",
    "from dask.diagnostics import ProgressBar"
   ]
  },
  {
   "cell_type": "code",
   "execution_count": 2,
   "metadata": {},
   "outputs": [],
   "source": [
    "def get_file(date):\n",
    "    year = date.year\n",
    "    date_str = date.strftime(\"%Y%m%d\")\n",
    "    time_str = date.strftime(\"%H%M%S\")\n",
    "    rootpath = '/g/data/hj10/cpol_level_1b/v2019/'\n",
    "    ppifile = os.path.join(rootpath, f\"ppi/{year}/{date_str}/twp10cpolppi.b1.{date_str}.{time_str}.nc\")\n",
    "    gridfile = os.path.join(rootpath, \n",
    "                            f\"gridded/grid_150km_2500m/{year}/{date_str}/twp10cpolgrid150.b2.{date_str}.{time_str}.nc\")\n",
    "    if not os.path.exists(ppifile):\n",
    "        return None\n",
    "    if os.path.exists(gridfile):\n",
    "        return None\n",
    "    return ppifile"
   ]
  },
  {
   "cell_type": "code",
   "execution_count": 19,
   "metadata": {},
   "outputs": [],
   "source": [
    "drange = pd.date_range('20090101', \"20100101\", freq='10Min')"
   ]
  },
  {
   "cell_type": "code",
   "execution_count": 20,
   "metadata": {},
   "outputs": [
    {
     "name": "stdout",
     "output_type": "stream",
     "text": [
      "[########################################] | 100% Completed |  7.7s\n"
     ]
    }
   ],
   "source": [
    "bag = db.from_sequence(drange).map(get_file)\n",
    "with ProgressBar():\n",
    "    rslt = bag.compute()\n",
    "    \n",
    "rslt = [r for r in rslt if r is not None]"
   ]
  },
  {
   "cell_type": "code",
   "execution_count": 21,
   "metadata": {},
   "outputs": [
    {
     "data": {
      "text/plain": [
       "['/g/data/hj10/cpol_level_1b/v2019/ppi/2009/20091201/twp10cpolppi.b1.20091201.231000.nc']"
      ]
     },
     "execution_count": 21,
     "metadata": {},
     "output_type": "execute_result"
    }
   ],
   "source": [
    "rslt"
   ]
  },
  {
   "cell_type": "code",
   "execution_count": 5,
   "metadata": {},
   "outputs": [],
   "source": [
    "with open('missing_grids.json', 'w+') as fid:\n",
    "    json.dump(rslt, fid)"
   ]
  },
  {
   "cell_type": "code",
   "execution_count": 6,
   "metadata": {},
   "outputs": [],
   "source": [
    "total_flist = rslt"
   ]
  },
  {
   "cell_type": "code",
   "execution_count": 9,
   "metadata": {},
   "outputs": [],
   "source": [
    "def grid_missing(infile):\n",
    "    outpath = \"/g/data/hj10/cpol_level_1b/v2019/gridded\"    \n",
    "\n",
    "    with warnings.catch_warnings():\n",
    "        warnings.simplefilter('ignore')        \n",
    "\n",
    "        try:\n",
    "            grids.radar_gridding(infile, outpath)\n",
    "        except KeyError:\n",
    "            pass\n",
    "        except Exception:\n",
    "            traceback.print_exc()\n",
    "    \n",
    "    return None"
   ]
  },
  {
   "cell_type": "code",
   "execution_count": 10,
   "metadata": {},
   "outputs": [],
   "source": [
    "def chunks(l, n):\n",
    "    \"\"\"\n",
    "    Yield successive n-sized chunks from l.\n",
    "    From http://stackoverflow.com/a/312464\n",
    "    \"\"\"\n",
    "    for i in range(0, len(l), n):\n",
    "        yield l[i:i + n]"
   ]
  },
  {
   "cell_type": "code",
   "execution_count": 25,
   "metadata": {},
   "outputs": [
    {
     "name": "stdout",
     "output_type": "stream",
     "text": [
      "twp10cpolppi.b1.20170427.074000.nc processed in 11.77.\n"
     ]
    }
   ],
   "source": [
    "grid_missing('/g/data/hj10/cpol_level_1b/v2019/ppi/2017/20170427/twp10cpolppi.b1.20170427.074000.nc')"
   ]
  },
  {
   "cell_type": "code",
   "execution_count": 22,
   "metadata": {
    "scrolled": false
   },
   "outputs": [],
   "source": [
    "# for flist in chunks(total_flist, 16):\n",
    "#     bag = db.from_sequence(flist).map(grid_missing)\n",
    "#     with ProgressBar():\n",
    "#         _ = bag.compute()"
   ]
  },
  {
   "cell_type": "code",
   "execution_count": null,
   "metadata": {},
   "outputs": [],
   "source": []
  }
 ],
 "metadata": {
  "kernelspec": {
   "display_name": "Python 3",
   "language": "python",
   "name": "python3"
  },
  "language_info": {
   "codemirror_mode": {
    "name": "ipython",
    "version": 3
   },
   "file_extension": ".py",
   "mimetype": "text/x-python",
   "name": "python",
   "nbconvert_exporter": "python",
   "pygments_lexer": "ipython3",
   "version": "3.7.3"
  }
 },
 "nbformat": 4,
 "nbformat_minor": 2
}
